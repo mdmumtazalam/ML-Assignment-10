{
  "cells": [
    {
      "cell_type": "markdown",
      "id": "e99232db",
      "metadata": {
        "id": "e99232db"
      },
      "source": [
        "# ML Assignment 10 Solution :-\n",
        "SUBMITTED BY: MD MUMTAZ ALAM"
      ]
    },
    {
      "cell_type": "markdown",
      "id": "57eff9ac",
      "metadata": {
        "id": "57eff9ac"
      },
      "source": [
        "## 1. Define the Bayesian interpretation of probability."
      ]
    },
    {
      "cell_type": "markdown",
      "id": "79083659",
      "metadata": {
        "id": "79083659"
      },
      "source": [
        "#### Ans:\n",
        "Bayesian probability is the study of subjective probabilities or belief in an outcome, compared to the frequentist approach where probabilities are based purely on the past occurrence of the event. A Bayesian Network captures the joint probabilities of the events represented by the model."
      ]
    },
    {
      "cell_type": "markdown",
      "id": "9fc7e029",
      "metadata": {
        "id": "9fc7e029"
      },
      "source": [
        "![image.png](attachment:image.png)"
      ]
    },
    {
      "cell_type": "markdown",
      "id": "be0586c2",
      "metadata": {
        "id": "be0586c2"
      },
      "source": [
        "## 2. Define probability of a union of two events with equation."
      ]
    },
    {
      "cell_type": "markdown",
      "id": "9fcb965d",
      "metadata": {
        "id": "9fcb965d"
      },
      "source": [
        "#### Ans: \n",
        "The general probability addition rule for the union of two events states that P(A∪B)=P(A)+P(B)−P(A∩B), where A∩B is the intersection of the two sets."
      ]
    },
    {
      "cell_type": "markdown",
      "id": "b5a42066",
      "metadata": {
        "id": "b5a42066"
      },
      "source": [
        "## 3. What is joint probability? What is its formula?"
      ]
    },
    {
      "cell_type": "markdown",
      "id": "923a2833",
      "metadata": {
        "id": "923a2833"
      },
      "source": [
        "## Ans: \n",
        "Probabilities are combined using multiplication, therefore the joint probability of independent events is calculated as the probability of event A multiplied by the probability of event B. This can be stated formally as follows:\n",
        "\n",
        "Joint Probability: P(A and B) = P(A)*P(B)"
      ]
    },
    {
      "cell_type": "markdown",
      "id": "fc3fb7c1",
      "metadata": {
        "id": "fc3fb7c1"
      },
      "source": [
        "## 4. What is chain rule of probability?"
      ]
    },
    {
      "cell_type": "markdown",
      "id": "44de4f16",
      "metadata": {
        "id": "44de4f16"
      },
      "source": [
        "#### Ans: \n",
        "The chain rule, or general product rule, calculates any component of the joint distribution of a set of random variables using only conditional probabilities. This probability theory is used as a foundation for backpropagation and in creating Bayesian networks."
      ]
    },
    {
      "cell_type": "markdown",
      "id": "8eaa9097",
      "metadata": {
        "id": "8eaa9097"
      },
      "source": [
        "![image.png](attachment:image.png)"
      ]
    },
    {
      "cell_type": "markdown",
      "id": "3dc9be82",
      "metadata": {
        "id": "3dc9be82"
      },
      "source": [
        "## 5. What is conditional probability means? What is the formula of it?"
      ]
    },
    {
      "cell_type": "markdown",
      "id": "53e3b771",
      "metadata": {
        "id": "53e3b771"
      },
      "source": [
        "#### Ans:\n",
        "Conditional probability is defined as the likelihood of an event or outcome occurring, based on the occurrence of a previous event or outcome.\n",
        "\n",
        "Conditional probability is calculated by multiplying the probability of the preceding event by the updated probability of the succeeding, or conditional, event.\n",
        "\n",
        "Let's take a real-life example. Probability of selling a TV on a given normal day may be only 30%. But if we consider that given day is Diwali, then there are much more chances of selling a TV. The conditional Probability of selling a TV on a day given that Day is Diwali might be 70%."
      ]
    },
    {
      "cell_type": "markdown",
      "id": "247f0301",
      "metadata": {
        "id": "247f0301"
      },
      "source": [
        "![image.png](attachment:image.png)"
      ]
    },
    {
      "cell_type": "markdown",
      "id": "6145e95f",
      "metadata": {
        "id": "6145e95f"
      },
      "source": [
        "## 6. What are continuous random variables?"
      ]
    },
    {
      "cell_type": "markdown",
      "id": "044e918b",
      "metadata": {
        "id": "044e918b"
      },
      "source": [
        "#### Ans:\n",
        "A continuous random variable X takes all values in a given interval of numbers. ▪ The probability distribution of a continuous random variable is shown by a density curve. ▪ The probability that X is between an interval of numbers is the area under the density curve between the interval endpoints."
      ]
    },
    {
      "cell_type": "markdown",
      "id": "e08672c2",
      "metadata": {
        "id": "e08672c2"
      },
      "source": [
        "![image.png](attachment:image.png)"
      ]
    },
    {
      "cell_type": "markdown",
      "id": "fc599e74",
      "metadata": {
        "id": "fc599e74"
      },
      "source": [
        "## 7. What are Bernoulli distributions? What is the formula of it?"
      ]
    },
    {
      "cell_type": "markdown",
      "id": "f50057b8",
      "metadata": {
        "id": "f50057b8"
      },
      "source": [
        "#### Ans: \n",
        "A Bernoulli distribution is a discrete probability distribution for a Bernoulli trial — a random experiment that has only two outcomes (usually called a Succes or a Failure).The expected value for a random variable, X.\n",
        "\n",
        "For a Bernoulli distribution is: E[X] = p.For example, if p = 0.04, then E[X] = 0.4"
      ]
    },
    {
      "cell_type": "markdown",
      "id": "e7939f19",
      "metadata": {
        "id": "e7939f19"
      },
      "source": [
        "![image.png](attachment:image.png)"
      ]
    },
    {
      "cell_type": "markdown",
      "id": "39d51672",
      "metadata": {
        "id": "39d51672"
      },
      "source": [
        "## 8. What is binomial distribution? What is the formula?"
      ]
    },
    {
      "cell_type": "markdown",
      "id": "6102c0c8",
      "metadata": {
        "id": "6102c0c8"
      },
      "source": [
        "#### Ans:\n",
        "The binomial is a type of distribution that has two possible outcomes (the prefix “bi” means two, or twice).For example, a coin toss has only two possible outcomes: heads or tails and taking a test could have two possible outcomes: pass or fail.\n",
        "\n",
        "A Binomial Distribution shows either (S)uccess or (F)ailure."
      ]
    },
    {
      "cell_type": "markdown",
      "id": "c7261f7b",
      "metadata": {
        "id": "c7261f7b"
      },
      "source": [
        "![image.png](attachment:image.png)"
      ]
    },
    {
      "cell_type": "markdown",
      "id": "7edbf63c",
      "metadata": {
        "id": "7edbf63c"
      },
      "source": [
        "## 9. What is Poisson distribution? What is the formula?"
      ]
    },
    {
      "cell_type": "markdown",
      "id": "04c0da63",
      "metadata": {
        "id": "04c0da63"
      },
      "source": [
        "#### Ans: \n",
        "A Poisson distribution is defined as a discrete frequency distribution that gives the probability of the number of independent events that occur in the fixed time.\n",
        "\n",
        "In statistics, a Poisson distribution is a probability distribution that is used to show how many times an event is likely to occur over a specified period. ... The Poisson distribution is a discrete function, meaning that the variable can only take specific values in a (potentially infinite) list."
      ]
    },
    {
      "cell_type": "markdown",
      "id": "b4120517",
      "metadata": {
        "id": "b4120517"
      },
      "source": [
        "![image.png](attachment:image.png)"
      ]
    },
    {
      "cell_type": "markdown",
      "id": "881f9314",
      "metadata": {
        "id": "881f9314"
      },
      "source": [
        "## 10. Define covariance ?"
      ]
    },
    {
      "cell_type": "markdown",
      "id": "a2c6a330",
      "metadata": {
        "id": "a2c6a330"
      },
      "source": [
        "#### Ans: \n",
        "Covariance is a measure of how much two random variables vary together. It's similar to variance, but where variance tells you how a single variable varies, co variance tells you how two variables vary together."
      ]
    },
    {
      "cell_type": "markdown",
      "id": "190c9d0d",
      "metadata": {
        "id": "190c9d0d"
      },
      "source": [
        "![image.png](attachment:image.png)"
      ]
    },
    {
      "cell_type": "markdown",
      "id": "dee1a3a3",
      "metadata": {
        "id": "dee1a3a3"
      },
      "source": [
        "## 11. Define correlation ?"
      ]
    },
    {
      "cell_type": "markdown",
      "id": "78579e4c",
      "metadata": {
        "id": "78579e4c"
      },
      "source": [
        "#### Ans:\n",
        "Correlation explains how one or more variables are related to each other. These variables can be input data features which have been used to forecast our target variable. It's a bi-variate analysis measure which describes the association between different variables."
      ]
    },
    {
      "cell_type": "markdown",
      "id": "f248f4e6",
      "metadata": {
        "id": "f248f4e6"
      },
      "source": [
        "![image.png](attachment:image.png)"
      ]
    },
    {
      "cell_type": "markdown",
      "id": "9bece756",
      "metadata": {
        "id": "9bece756"
      },
      "source": [
        "## 12. Define sampling with replacement. Give example."
      ]
    },
    {
      "cell_type": "markdown",
      "id": "d02169f9",
      "metadata": {
        "id": "d02169f9"
      },
      "source": [
        "#### Ans:\n",
        "If you sample with replacement, you would choose one person's name, put that person's name back in the hat, and then choose another name. The possibilities for your two-name sample are: John, John. John, Jack."
      ]
    },
    {
      "cell_type": "markdown",
      "id": "d2dad987",
      "metadata": {
        "id": "d2dad987"
      },
      "source": [
        "## 13. What is sampling without replacement? Give example."
      ]
    },
    {
      "cell_type": "markdown",
      "id": "5fd8cc53",
      "metadata": {
        "id": "5fd8cc53"
      },
      "source": [
        "#### Ans: \n",
        "In sampling without replacement, each sample unit of the population has only one chance to be selected in the sample. For example, if one draws a simple random sample such that no unit occurs more than one time in the sample, the sample is drawn without replacement."
      ]
    },
    {
      "cell_type": "markdown",
      "id": "794731df",
      "metadata": {
        "id": "794731df"
      },
      "source": [
        "## 14.What is hypothesis? Give example."
      ]
    },
    {
      "cell_type": "markdown",
      "id": "c667fc3b",
      "metadata": {
        "id": "c667fc3b"
      },
      "source": [
        "#### Ans:\n",
        "A hypothesis (plural hypotheses) is a proposed explanation for a phenomenon. For a hypothesis to be a scientific hypothesis, the scientific method requires that one can test it. ... Even though the words \"hypothesis\" and \"theory\" are often used synonymously, a scientific hypothesis is not the same as a scientific theory.\n",
        "\n",
        "**Examples of hypothesis statements:** If garlic repels fleas, then a dog that is given garlic every day will not get fleas. Bacterial growth may be affected by moisture levels in the air. If sugar causes cavities, then people who eat a lot of candy may be more prone to cavities."
      ]
    },
    {
      "cell_type": "markdown",
      "id": "85c87468",
      "metadata": {
        "id": "85c87468"
      },
      "source": [
        "# Thank You"
      ]
    }
  ],
  "metadata": {
    "kernelspec": {
      "display_name": "Python 3 (ipykernel)",
      "language": "python",
      "name": "python3"
    },
    "language_info": {
      "codemirror_mode": {
        "name": "ipython",
        "version": 3
      },
      "file_extension": ".py",
      "mimetype": "text/x-python",
      "name": "python",
      "nbconvert_exporter": "python",
      "pygments_lexer": "ipython3",
      "version": "3.9.7"
    },
    "colab": {
      "provenance": []
    }
  },
  "nbformat": 4,
  "nbformat_minor": 5
}